{
 "cells": [
  {
   "cell_type": "code",
   "execution_count": 15,
   "metadata": {},
   "outputs": [],
   "source": [
    "import os\n",
    "import pickle"
   ]
  },
  {
   "cell_type": "markdown",
   "metadata": {},
   "source": [
    "### Preprocess train-val-test splits of data"
   ]
  },
  {
   "cell_type": "code",
   "execution_count": 26,
   "metadata": {},
   "outputs": [
    {
     "name": "stdout",
     "output_type": "stream",
     "text": [
      "INFO : loading pickle files\n",
      "INFO : loading tf-idf vectorizer\n",
      "INFO : preprocessing data splits\n",
      "INFO : saving preprocessed pickle files\n"
     ]
    }
   ],
   "source": [
    "!python ./scripts/preprocess_data.py --inp_data_path ./data --dest_path ./data/experiment_tracking --fileout_vect ./artifacts/experiment_tracking/tfidf_vectorizer.pkl"
   ]
  },
  {
   "cell_type": "code",
   "execution_count": 30,
   "metadata": {},
   "outputs": [
    {
     "name": "stdout",
     "output_type": "stream",
     "text": [
      "['test.pkl', 'train.pkl', 'val.pkl']\n",
      "['tfidf_vectorizer.pkl']\n"
     ]
    }
   ],
   "source": [
    "# check preprocessed files\n",
    "print(os.listdir(\"./data/experiment_tracking/\"))\n",
    "\n",
    "# check tfidf vectorizer pickle file\n",
    "print(os.listdir(\"./artifacts/experiment_tracking\"))"
   ]
  },
  {
   "cell_type": "code",
   "execution_count": 33,
   "metadata": {},
   "outputs": [
    {
     "name": "stdout",
     "output_type": "stream",
     "text": [
      "<class 'numpy.ndarray'> <class 'numpy.ndarray'> <class 'list'> <class 'list'>\n",
      "(32345, 796) (32345,) 796 1\n"
     ]
    }
   ],
   "source": [
    "# check train data pickle\n",
    "with open(\"./data/experiment_tracking/train.pkl\", 'rb') as ftrain:\n",
    "    dfx, dfy, dfx_cols, dfy_cols = pickle.load(ftrain)\n",
    "print(type(dfx), type(dfy), type(dfx_cols), type(dfy_cols))\n",
    "print(dfx.shape, dfy.shape, len(dfx_cols), len(dfy_cols))"
   ]
  },
  {
   "cell_type": "markdown",
   "metadata": {},
   "source": [
    "### Experiment Tracking using mlflow"
   ]
  },
  {
   "cell_type": "markdown",
   "metadata": {},
   "source": [
    "Run below command in terminal and open the url where mlflow is being served to track model training experiments:\n",
    "\n",
    "mlflow ui --backend-store-uri sqlite:///mlflow.db"
   ]
  },
  {
   "cell_type": "code",
   "execution_count": 23,
   "metadata": {},
   "outputs": [
    {
     "name": "stderr",
     "output_type": "stream",
     "text": [
      "2024/08/18 22:18:30 WARNING mlflow.models.model: Input example should be provided to infer model signature if the model signature is not provided when logging the model.\n",
      "d:\\Installed Programs\\miniconda3\\envs\\reviewsentinel\\lib\\site-packages\\_distutils_hack\\__init__.py:17: UserWarning: Distutils was imported before Setuptools, but importing Setuptools also replaces the `distutils` module in `sys.modules`. This may lead to undesirable behaviors or errors. To avoid these issues, avoid using distutils directly, ensure that setuptools is installed in the traditional way (e.g. not an editable install), and/or make sure that setuptools is always imported before distutils.\n",
      "  warnings.warn(\n",
      "d:\\Installed Programs\\miniconda3\\envs\\reviewsentinel\\lib\\site-packages\\_distutils_hack\\__init__.py:32: UserWarning: Setuptools is replacing distutils. Support for replacing an already imported distutils is deprecated. In the future, this condition will fail. Register concerns at https://github.com/pypa/setuptools/issues/new?template=distutils-deprecation.yml\n",
      "  warnings.warn(\n",
      "2024/08/18 22:18:54 WARNING mlflow.models.model: Input example should be provided to infer model signature if the model signature is not provided when logging the model.\n",
      "d:\\Installed Programs\\miniconda3\\envs\\reviewsentinel\\lib\\site-packages\\_distutils_hack\\__init__.py:17: UserWarning: Distutils was imported before Setuptools, but importing Setuptools also replaces the `distutils` module in `sys.modules`. This may lead to undesirable behaviors or errors. To avoid these issues, avoid using distutils directly, ensure that setuptools is installed in the traditional way (e.g. not an editable install), and/or make sure that setuptools is always imported before distutils.\n",
      "  warnings.warn(\n",
      "d:\\Installed Programs\\miniconda3\\envs\\reviewsentinel\\lib\\site-packages\\_distutils_hack\\__init__.py:32: UserWarning: Setuptools is replacing distutils. Support for replacing an already imported distutils is deprecated. In the future, this condition will fail. Register concerns at https://github.com/pypa/setuptools/issues/new?template=distutils-deprecation.yml\n",
      "  warnings.warn(\n",
      "2024/08/18 22:19:52 WARNING mlflow.models.model: Input example should be provided to infer model signature if the model signature is not provided when logging the model.\n"
     ]
    }
   ],
   "source": [
    "# baseline sklearn models\n",
    "!python ./scripts/train.py"
   ]
  },
  {
   "cell_type": "code",
   "execution_count": 25,
   "metadata": {},
   "outputs": [
    {
     "name": "stdout",
     "output_type": "stream",
     "text": [
      "\n",
      "  0%|          | 0/15 [00:00<?, ?trial/s, best loss=?]\n",
      "  7%|▋         | 1/15 [01:26<20:14, 86.77s/trial, best loss: -0.7213797733001989]\n",
      " 13%|█▎        | 2/15 [04:40<32:23, 149.50s/trial, best loss: -0.7365723367822792]\n",
      " 20%|██        | 3/15 [08:37<37:57, 189.82s/trial, best loss: -0.7365723367822792]\n",
      " 27%|██▋       | 4/15 [20:12<1:11:21, 389.23s/trial, best loss: -0.7365723367822792]\n",
      " 33%|███▎      | 5/15 [27:56<1:09:20, 416.03s/trial, best loss: -0.7365723367822792]\n",
      " 40%|████      | 6/15 [31:02<50:39, 337.73s/trial, best loss: -0.7466880356220631]  \n",
      " 47%|████▋     | 7/15 [43:06<1:01:52, 464.10s/trial, best loss: -0.7466880356220631]\n",
      " 53%|█████▎    | 8/15 [47:35<46:53, 401.89s/trial, best loss: -0.7639681589301875]  \n",
      " 60%|██████    | 9/15 [48:10<28:44, 287.43s/trial, best loss: -0.7639681589301875]\n",
      " 67%|██████▋   | 10/15 [1:00:08<35:01, 420.25s/trial, best loss: -0.7639681589301875]\n",
      " 73%|███████▎  | 11/15 [1:07:56<28:59, 434.92s/trial, best loss: -0.7639681589301875]\n",
      " 80%|████████  | 12/15 [1:35:41<40:27, 809.18s/trial, best loss: -0.7639681589301875]\n",
      " 87%|████████▋ | 13/15 [1:51:25<28:19, 849.96s/trial, best loss: -0.7639681589301875]\n",
      " 93%|█████████▎| 14/15 [2:03:12<13:26, 806.61s/trial, best loss: -0.7639681589301875]\n",
      "100%|██████████| 15/15 [2:31:16<00:00, 1071.21s/trial, best loss: -0.7639681589301875]\n",
      "100%|██████████| 15/15 [2:31:16<00:00, 605.11s/trial, best loss: -0.7639681589301875] \n"
     ]
    }
   ],
   "source": [
    "# random forest classifiers tuned using hyperopt\n",
    "!python ./scripts/hpo.py"
   ]
  },
  {
   "cell_type": "markdown",
   "metadata": {},
   "source": [
    "### Model Registry"
   ]
  },
  {
   "cell_type": "code",
   "execution_count": 119,
   "metadata": {},
   "outputs": [
    {
     "name": "stderr",
     "output_type": "stream",
     "text": [
      "2024/08/19 21:48:27 INFO mlflow.tracking.fluent: Experiment with name 'candidate_mtest2' does not exist. Creating a new experiment.\n",
      "2024/08/19 21:49:22 WARNING mlflow.utils.autologging_utils: MLflow autologging encountered a warning: \"d:\\Installed Programs\\miniconda3\\envs\\reviewsentinel\\lib\\site-packages\\_distutils_hack\\__init__.py:32: UserWarning: Setuptools is replacing distutils. Support for replacing an already imported distutils is deprecated. In the future, this condition will fail. Register concerns at https://github.com/pypa/setuptools/issues/new?template=distutils-deprecation.yml\"\n",
      "2024/08/19 21:50:06 WARNING mlflow.utils.validation: Tag value '[{\"run_id\": \"5c5cc9ad10374fe48161b07b28ca7639\", \"artifact_path\": \"model\", \"utc_time_created\": \"2024-...' (5579 characters) is truncated to 5000 characters to meet the length limit.\n",
      "2024/08/19 21:51:04 WARNING mlflow.utils.validation: Tag value '[{\"run_id\": \"11d721bdda514331a3290b67fcc15bb5\", \"artifact_path\": \"model\", \"utc_time_created\": \"2024-...' (5579 characters) is truncated to 5000 characters to meet the length limit.\n",
      "2024/08/19 21:53:26 WARNING mlflow.utils.validation: Tag value '[{\"run_id\": \"23e2305b5cfb42b99650a23fc143f0d0\", \"artifact_path\": \"model\", \"utc_time_created\": \"2024-...' (5601 characters) is truncated to 5000 characters to meet the length limit.\n",
      "2024/08/19 21:55:26 WARNING mlflow.utils.validation: Tag value '[{\"run_id\": \"53a87937298f4e97b11e22631df6fc03\", \"artifact_path\": \"model\", \"utc_time_created\": \"2024-...' (5593 characters) is truncated to 5000 characters to meet the length limit.\n",
      "2024/08/19 21:58:26 WARNING mlflow.utils.validation: Tag value '[{\"run_id\": \"f0659eee411543a4b2a6111f385cb9c9\", \"artifact_path\": \"model\", \"utc_time_created\": \"2024-...' (5600 characters) is truncated to 5000 characters to meet the length limit.\n",
      "2024/08/19 22:07:09 WARNING mlflow.utils.validation: Tag value '[{\"run_id\": \"3ee25c7f5a8f4d398eb54d2c96d39a5a\", \"artifact_path\": \"model\", \"utc_time_created\": \"2024-...' (5600 characters) is truncated to 5000 characters to meet the length limit.\n",
      "2024/08/19 22:08:19 WARNING mlflow.utils.validation: Tag value '[{\"run_id\": \"7d362d1e0215456d80ef39ad4dc6f54f\", \"artifact_path\": \"model\", \"utc_time_created\": \"2024-...' (5586 characters) is truncated to 5000 characters to meet the length limit.\n",
      "2024/08/19 22:10:17 WARNING mlflow.utils.validation: Tag value '[{\"run_id\": \"d34713e5aabb48e8b2e8bcab39a220fc\", \"artifact_path\": \"model\", \"utc_time_created\": \"2024-...' (5593 characters) is truncated to 5000 characters to meet the length limit.\n",
      "Successfully registered model 'reviewsentinel_dev'.\n",
      "Created version '1' of model 'reviewsentinel_dev'.\n"
     ]
    }
   ],
   "source": [
    "# register top model from best 5 candidate models\n",
    "!python ./scripts/register_model.py --tracked_exps hyperopt_rfc --candidate_exp candidate_mtest2"
   ]
  },
  {
   "cell_type": "code",
   "execution_count": null,
   "metadata": {},
   "outputs": [],
   "source": [
    "# code to delete registered model(and its versions); to be implemented later in the scripts\n",
    "\n",
    "# Delete versions 1,2, and 3 of the model\n",
    "# client = MlflowClient()\n",
    "# versions = [1, 2, 3]\n",
    "# for version in versions:\n",
    "#     client.delete_model_version(\n",
    "#         name=\"sk-learn-random-forest-reg-model\", version=version\n",
    "#     )\n",
    "\n",
    "# Delete a registered model along with all its versions\n",
    "# client.delete_registered_model(name=\"sk-learn-random-forest-reg-model\")"
   ]
  },
  {
   "cell_type": "code",
   "execution_count": null,
   "metadata": {},
   "outputs": [],
   "source": [
    "# code to remove deleted runs from mlflow directory; to be implemented later in the scripts\n",
    "# ps: this only deletes the folders from windows filesystem but not its deleted entry from mlflow lifecycle\n",
    "\n",
    "# import mlflow\n",
    "# import shutil\n",
    "    \n",
    "# def get_run_dir(artifacts_uri):\n",
    "#     return artifacts_uri[8:-10]\n",
    "    \n",
    "    \n",
    "# def remove_run_dir(run_dir):\n",
    "#     shutil.rmtree(run_dir, ignore_errors=True)\n",
    "    \n",
    "# experiment_id = 1\n",
    "# deleted_runs = 2\n",
    "    \n",
    "# exp = mlflow.tracking.MlflowClient(tracking_uri='./mlflow/mlruns')\n",
    "    \n",
    "# runs = exp.search_runs(str(experiment_id), run_view_type=deleted_runs)\n",
    "    \n",
    "# _ = [remove_run_dir(get_run_dir(run.info.artifact_uri)) for run in runs]"
   ]
  }
 ],
 "metadata": {
  "kernelspec": {
   "display_name": "reviewsentinel",
   "language": "python",
   "name": "python3"
  },
  "language_info": {
   "codemirror_mode": {
    "name": "ipython",
    "version": 3
   },
   "file_extension": ".py",
   "mimetype": "text/x-python",
   "name": "python",
   "nbconvert_exporter": "python",
   "pygments_lexer": "ipython3",
   "version": "3.9.19"
  }
 },
 "nbformat": 4,
 "nbformat_minor": 2
}
