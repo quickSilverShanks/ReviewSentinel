{
 "cells": [
  {
   "cell_type": "markdown",
   "metadata": {},
   "source": [
    "### Setups and Imports"
   ]
  },
  {
   "cell_type": "code",
   "execution_count": 4,
   "metadata": {},
   "outputs": [],
   "source": [
    "import pandas as pd\n",
    "import string\n",
    "import pickle\n",
    "from matplotlib import pyplot as plt\n",
    "\n",
    "%matplotlib inline"
   ]
  },
  {
   "cell_type": "code",
   "execution_count": 5,
   "metadata": {},
   "outputs": [
    {
     "name": "stderr",
     "output_type": "stream",
     "text": [
      "[nltk_data] Downloading package stopwords to C:\\Users\\Shashank\n",
      "[nltk_data]     Prakash\\AppData\\Roaming\\nltk_data...\n",
      "[nltk_data]   Package stopwords is already up-to-date!\n",
      "[nltk_data] Downloading package wordnet to C:\\Users\\Shashank\n",
      "[nltk_data]     Prakash\\AppData\\Roaming\\nltk_data...\n",
      "[nltk_data]   Package wordnet is already up-to-date!\n",
      "[nltk_data] Downloading package omw-1.4 to C:\\Users\\Shashank\n",
      "[nltk_data]     Prakash\\AppData\\Roaming\\nltk_data...\n",
      "[nltk_data]   Package omw-1.4 is already up-to-date!\n",
      "[nltk_data] Downloading package punkt_tab to C:\\Users\\Shashank\n",
      "[nltk_data]     Prakash\\AppData\\Roaming\\nltk_data...\n",
      "[nltk_data]   Package punkt_tab is already up-to-date!\n",
      "[nltk_data] Downloading package punkt to C:\\Users\\Shashank\n",
      "[nltk_data]     Prakash\\AppData\\Roaming\\nltk_data...\n",
      "[nltk_data]   Package punkt is already up-to-date!\n"
     ]
    },
    {
     "data": {
      "text/plain": [
       "True"
      ]
     },
     "execution_count": 5,
     "metadata": {},
     "output_type": "execute_result"
    }
   ],
   "source": [
    "import re\n",
    "import nltk\n",
    "from nltk.corpus import stopwords\n",
    "from nltk.stem import WordNetLemmatizer\n",
    "from bs4 import BeautifulSoup\n",
    "\n",
    "\n",
    "# Download necessary NLTK data\n",
    "nltk.download('stopwords')\n",
    "nltk.download('wordnet')\n",
    "nltk.download('omw-1.4')\n",
    "nltk.download('punkt_tab')\n",
    "nltk.download('punkt')"
   ]
  },
  {
   "cell_type": "code",
   "execution_count": 6,
   "metadata": {},
   "outputs": [],
   "source": [
    "from sklearn.model_selection import StratifiedShuffleSplit\n",
    "from sklearn.feature_extraction.text import TfidfVectorizer\n",
    "\n",
    "from sklearn.linear_model import LogisticRegression, SGDClassifier\n",
    "from sklearn.ensemble import RandomForestClassifier\n",
    "\n",
    "from sklearn.model_selection import cross_val_score, cross_val_predict\n",
    "from sklearn.metrics import accuracy_score, confusion_matrix, ConfusionMatrixDisplay, roc_curve, roc_auc_score"
   ]
  },
  {
   "cell_type": "markdown",
   "metadata": {},
   "source": [
    "### Exploratory Data Analysis"
   ]
  },
  {
   "cell_type": "code",
   "execution_count": 7,
   "metadata": {},
   "outputs": [
    {
     "data": {
      "text/plain": [
       "(40432, 4)"
      ]
     },
     "execution_count": 7,
     "metadata": {},
     "output_type": "execute_result"
    }
   ],
   "source": [
    "reviews_all = pd.read_csv(\"./data/fake reviews dataset.csv\")\n",
    "reviews_all.shape"
   ]
  },
  {
   "cell_type": "code",
   "execution_count": 8,
   "metadata": {},
   "outputs": [
    {
     "name": "stdout",
     "output_type": "stream",
     "text": [
      "<class 'pandas.core.frame.DataFrame'>\n",
      "RangeIndex: 40432 entries, 0 to 40431\n",
      "Data columns (total 4 columns):\n",
      " #   Column    Non-Null Count  Dtype  \n",
      "---  ------    --------------  -----  \n",
      " 0   category  40432 non-null  object \n",
      " 1   rating    40432 non-null  float64\n",
      " 2   label     40432 non-null  object \n",
      " 3   text_     40432 non-null  object \n",
      "dtypes: float64(1), object(3)\n",
      "memory usage: 1.2+ MB\n"
     ]
    }
   ],
   "source": [
    "# check for missing data\n",
    "reviews_all.info()"
   ]
  },
  {
   "cell_type": "code",
   "execution_count": 9,
   "metadata": {},
   "outputs": [
    {
     "data": {
      "text/html": [
       "<div>\n",
       "<style scoped>\n",
       "    .dataframe tbody tr th:only-of-type {\n",
       "        vertical-align: middle;\n",
       "    }\n",
       "\n",
       "    .dataframe tbody tr th {\n",
       "        vertical-align: top;\n",
       "    }\n",
       "\n",
       "    .dataframe thead th {\n",
       "        text-align: right;\n",
       "    }\n",
       "</style>\n",
       "<table border=\"1\" class=\"dataframe\">\n",
       "  <thead>\n",
       "    <tr style=\"text-align: right;\">\n",
       "      <th></th>\n",
       "      <th>category</th>\n",
       "      <th>rating</th>\n",
       "      <th>label</th>\n",
       "      <th>text_</th>\n",
       "    </tr>\n",
       "  </thead>\n",
       "  <tbody>\n",
       "    <tr>\n",
       "      <th>0</th>\n",
       "      <td>Home_and_Kitchen_5</td>\n",
       "      <td>5.0</td>\n",
       "      <td>CG</td>\n",
       "      <td>Love this!  Well made, sturdy, and very comfor...</td>\n",
       "    </tr>\n",
       "    <tr>\n",
       "      <th>1</th>\n",
       "      <td>Home_and_Kitchen_5</td>\n",
       "      <td>5.0</td>\n",
       "      <td>CG</td>\n",
       "      <td>love it, a great upgrade from the original.  I...</td>\n",
       "    </tr>\n",
       "    <tr>\n",
       "      <th>2</th>\n",
       "      <td>Home_and_Kitchen_5</td>\n",
       "      <td>5.0</td>\n",
       "      <td>CG</td>\n",
       "      <td>This pillow saved my back. I love the look and...</td>\n",
       "    </tr>\n",
       "    <tr>\n",
       "      <th>3</th>\n",
       "      <td>Home_and_Kitchen_5</td>\n",
       "      <td>1.0</td>\n",
       "      <td>CG</td>\n",
       "      <td>Missing information on how to use it, but it i...</td>\n",
       "    </tr>\n",
       "    <tr>\n",
       "      <th>4</th>\n",
       "      <td>Home_and_Kitchen_5</td>\n",
       "      <td>5.0</td>\n",
       "      <td>CG</td>\n",
       "      <td>Very nice set. Good quality. We have had the s...</td>\n",
       "    </tr>\n",
       "  </tbody>\n",
       "</table>\n",
       "</div>"
      ],
      "text/plain": [
       "             category  rating label  \\\n",
       "0  Home_and_Kitchen_5     5.0    CG   \n",
       "1  Home_and_Kitchen_5     5.0    CG   \n",
       "2  Home_and_Kitchen_5     5.0    CG   \n",
       "3  Home_and_Kitchen_5     1.0    CG   \n",
       "4  Home_and_Kitchen_5     5.0    CG   \n",
       "\n",
       "                                               text_  \n",
       "0  Love this!  Well made, sturdy, and very comfor...  \n",
       "1  love it, a great upgrade from the original.  I...  \n",
       "2  This pillow saved my back. I love the look and...  \n",
       "3  Missing information on how to use it, but it i...  \n",
       "4  Very nice set. Good quality. We have had the s...  "
      ]
     },
     "execution_count": 9,
     "metadata": {},
     "output_type": "execute_result"
    }
   ],
   "source": [
    "reviews_all.head()"
   ]
  },
  {
   "cell_type": "code",
   "execution_count": 10,
   "metadata": {},
   "outputs": [
    {
     "data": {
      "text/html": [
       "<div>\n",
       "<style scoped>\n",
       "    .dataframe tbody tr th:only-of-type {\n",
       "        vertical-align: middle;\n",
       "    }\n",
       "\n",
       "    .dataframe tbody tr th {\n",
       "        vertical-align: top;\n",
       "    }\n",
       "\n",
       "    .dataframe thead th {\n",
       "        text-align: right;\n",
       "    }\n",
       "</style>\n",
       "<table border=\"1\" class=\"dataframe\">\n",
       "  <thead>\n",
       "    <tr style=\"text-align: right;\">\n",
       "      <th></th>\n",
       "      <th>category</th>\n",
       "      <th>rating</th>\n",
       "      <th>label</th>\n",
       "      <th>text_</th>\n",
       "      <th>text_length</th>\n",
       "    </tr>\n",
       "  </thead>\n",
       "  <tbody>\n",
       "    <tr>\n",
       "      <th>0</th>\n",
       "      <td>Home_and_Kitchen_5</td>\n",
       "      <td>5.0</td>\n",
       "      <td>CG</td>\n",
       "      <td>Love this!  Well made, sturdy, and very comfor...</td>\n",
       "      <td>75</td>\n",
       "    </tr>\n",
       "    <tr>\n",
       "      <th>1</th>\n",
       "      <td>Home_and_Kitchen_5</td>\n",
       "      <td>5.0</td>\n",
       "      <td>CG</td>\n",
       "      <td>love it, a great upgrade from the original.  I...</td>\n",
       "      <td>80</td>\n",
       "    </tr>\n",
       "  </tbody>\n",
       "</table>\n",
       "</div>"
      ],
      "text/plain": [
       "             category  rating label  \\\n",
       "0  Home_and_Kitchen_5     5.0    CG   \n",
       "1  Home_and_Kitchen_5     5.0    CG   \n",
       "\n",
       "                                               text_  text_length  \n",
       "0  Love this!  Well made, sturdy, and very comfor...           75  \n",
       "1  love it, a great upgrade from the original.  I...           80  "
      ]
     },
     "execution_count": 10,
     "metadata": {},
     "output_type": "execute_result"
    }
   ],
   "source": [
    "reviews_all['text_length'] = reviews_all['text_'].apply(len)\n",
    "reviews_all.head(2)"
   ]
  },
  {
   "cell_type": "code",
   "execution_count": 11,
   "metadata": {},
   "outputs": [
    {
     "data": {
      "image/png": "[encoded data removed]",
      "text/plain": [
       "<Figure size 1200x200 with 3 Axes>"
      ]
     },
     "metadata": {},
     "output_type": "display_data"
    }
   ],
   "source": [
    "fig, axes = plt.subplots(1, 3)\n",
    "fig.set_size_inches(12,2)\n",
    "\n",
    "reviews_all['category'].value_counts().plot(kind='barh', ax=axes[0])\n",
    "reviews_all['rating'].value_counts().plot(kind='barh', ax=axes[1])\n",
    "reviews_all['label'].value_counts().plot(kind='barh', ax=axes[2])\n",
    "plt.tight_layout()"
   ]
  },
  {
   "cell_type": "code",
   "execution_count": 12,
   "metadata": {},
   "outputs": [
    {
     "data": {
      "text/plain": [
       "Text(0.5, 0, 'Review Length (characters)')"
      ]
     },
     "execution_count": 12,
     "metadata": {},
     "output_type": "execute_result"
    },
    {
     "data": {
      "image/png": "[encoded data removed]",
      "text/plain": [
       "<Figure size 800x300 with 1 Axes>"
      ]
     },
     "metadata": {},
     "output_type": "display_data"
    }
   ],
   "source": [
    "reviews_all['text_length'].hist(bins=100, figsize=(8,3))\n",
    "plt.xlabel(\"Review Length (characters)\")"
   ]
  },
  {
   "cell_type": "code",
   "execution_count": 13,
   "metadata": {},
   "outputs": [
    {
     "data": {
      "image/png": "[encoded data removed]",
      "text/plain": [
       "<Figure size 1200x300 with 2 Axes>"
      ]
     },
     "metadata": {},
     "output_type": "display_data"
    }
   ],
   "source": [
    "# distribution of CG labels in all categories\n",
    "\n",
    "fig, axes = plt.subplots(1, 2)\n",
    "fig.set_size_inches(12,3)\n",
    "\n",
    "val_counts = reviews_all[['label', 'category']].value_counts().reset_index(name='count')\n",
    "pivot_df = val_counts.pivot(index='category', columns='label', values='count')\n",
    "pivot_df.plot(kind='barh', stacked=False, ax=axes[0])\n",
    "\n",
    "val_counts = reviews_all[['label', 'rating']].value_counts().reset_index(name='count')\n",
    "pivot_df = val_counts.pivot(index='rating', columns='label', values='count')\n",
    "pivot_df.plot(kind='barh', stacked=False, ax=axes[1])\n",
    "\n",
    "plt.tight_layout()"
   ]
  },
  {
   "cell_type": "code",
   "execution_count": 14,
   "metadata": {},
   "outputs": [
    {
     "data": {
      "image/png": "[encoded data removed]",
      "text/plain": [
       "<Figure size 800x300 with 1 Axes>"
      ]
     },
     "metadata": {},
     "output_type": "display_data"
    }
   ],
   "source": [
    "label_CG = reviews_all[reviews_all['label'] == 'CG']['text_length']\n",
    "label_OR = reviews_all[reviews_all['label'] == 'OR']['text_length']\n",
    "\n",
    "plt.figure(figsize=(8, 3))\n",
    "\n",
    "# Plot histogram for label 'CG'\n",
    "plt.hist(label_CG, bins=100, alpha=0.5, label='CG', color='red')\n",
    "\n",
    "# Plot histogram for label 'OR'\n",
    "plt.hist(label_OR, bins=100, alpha=0.5, label='OR', color='blue')\n",
    "\n",
    "plt.xlabel(\"Review Length (characters)\")\n",
    "plt.ylabel(\"Frequency\")\n",
    "plt.title(\"Histogram of Review Lengths by Label\")\n",
    "plt.legend()\n",
    "\n",
    "plt.show()"
   ]
  },
  {
   "cell_type": "markdown",
   "metadata": {},
   "source": [
    "### Text Exploration"
   ]
  },
  {
   "cell_type": "code",
   "execution_count": 15,
   "metadata": {},
   "outputs": [
    {
     "data": {
      "text/html": [
       "<div>\n",
       "<style scoped>\n",
       "    .dataframe tbody tr th:only-of-type {\n",
       "        vertical-align: middle;\n",
       "    }\n",
       "\n",
       "    .dataframe tbody tr th {\n",
       "        vertical-align: top;\n",
       "    }\n",
       "\n",
       "    .dataframe thead th {\n",
       "        text-align: right;\n",
       "    }\n",
       "</style>\n",
       "<table border=\"1\" class=\"dataframe\">\n",
       "  <thead>\n",
       "    <tr style=\"text-align: right;\">\n",
       "      <th></th>\n",
       "      <th>rating</th>\n",
       "      <th>text_length</th>\n",
       "    </tr>\n",
       "  </thead>\n",
       "  <tbody>\n",
       "    <tr>\n",
       "      <th>count</th>\n",
       "      <td>40432.000000</td>\n",
       "      <td>40432.000000</td>\n",
       "    </tr>\n",
       "    <tr>\n",
       "      <th>mean</th>\n",
       "      <td>4.256579</td>\n",
       "      <td>351.271963</td>\n",
       "    </tr>\n",
       "    <tr>\n",
       "      <th>std</th>\n",
       "      <td>1.144354</td>\n",
       "      <td>369.813570</td>\n",
       "    </tr>\n",
       "    <tr>\n",
       "      <th>min</th>\n",
       "      <td>1.000000</td>\n",
       "      <td>24.000000</td>\n",
       "    </tr>\n",
       "    <tr>\n",
       "      <th>25%</th>\n",
       "      <td>4.000000</td>\n",
       "      <td>107.000000</td>\n",
       "    </tr>\n",
       "    <tr>\n",
       "      <th>50%</th>\n",
       "      <td>5.000000</td>\n",
       "      <td>198.000000</td>\n",
       "    </tr>\n",
       "    <tr>\n",
       "      <th>75%</th>\n",
       "      <td>5.000000</td>\n",
       "      <td>439.000000</td>\n",
       "    </tr>\n",
       "    <tr>\n",
       "      <th>max</th>\n",
       "      <td>5.000000</td>\n",
       "      <td>2827.000000</td>\n",
       "    </tr>\n",
       "  </tbody>\n",
       "</table>\n",
       "</div>"
      ],
      "text/plain": [
       "             rating   text_length\n",
       "count  40432.000000  40432.000000\n",
       "mean       4.256579    351.271963\n",
       "std        1.144354    369.813570\n",
       "min        1.000000     24.000000\n",
       "25%        4.000000    107.000000\n",
       "50%        5.000000    198.000000\n",
       "75%        5.000000    439.000000\n",
       "max        5.000000   2827.000000"
      ]
     },
     "execution_count": 15,
     "metadata": {},
     "output_type": "execute_result"
    }
   ],
   "source": [
    "reviews_all.describe()"
   ]
  },
  {
   "cell_type": "code",
   "execution_count": 16,
   "metadata": {},
   "outputs": [
    {
     "data": {
      "text/html": [
       "<div>\n",
       "<style scoped>\n",
       "    .dataframe tbody tr th:only-of-type {\n",
       "        vertical-align: middle;\n",
       "    }\n",
       "\n",
       "    .dataframe tbody tr th {\n",
       "        vertical-align: top;\n",
       "    }\n",
       "\n",
       "    .dataframe thead th {\n",
       "        text-align: right;\n",
       "    }\n",
       "</style>\n",
       "<table border=\"1\" class=\"dataframe\">\n",
       "  <thead>\n",
       "    <tr style=\"text-align: right;\">\n",
       "      <th></th>\n",
       "      <th>category</th>\n",
       "      <th>rating</th>\n",
       "      <th>label</th>\n",
       "      <th>text_</th>\n",
       "      <th>text_length</th>\n",
       "    </tr>\n",
       "  </thead>\n",
       "  <tbody>\n",
       "    <tr>\n",
       "      <th>1520</th>\n",
       "      <td>Home_and_Kitchen_5</td>\n",
       "      <td>5.0</td>\n",
       "      <td>OR</td>\n",
       "      <td>&lt;a data-hook=\"product-link-linked\" class=\"a-li...</td>\n",
       "      <td>347</td>\n",
       "    </tr>\n",
       "    <tr>\n",
       "      <th>2223</th>\n",
       "      <td>Home_and_Kitchen_5</td>\n",
       "      <td>5.0</td>\n",
       "      <td>OR</td>\n",
       "      <td>Once you get used to the settings, it makes de...</td>\n",
       "      <td>254</td>\n",
       "    </tr>\n",
       "    <tr>\n",
       "      <th>2290</th>\n",
       "      <td>Home_and_Kitchen_5</td>\n",
       "      <td>1.0</td>\n",
       "      <td>OR</td>\n",
       "      <td>This thermostat worked great at first but soon...</td>\n",
       "      <td>261</td>\n",
       "    </tr>\n",
       "    <tr>\n",
       "      <th>2333</th>\n",
       "      <td>Home_and_Kitchen_5</td>\n",
       "      <td>5.0</td>\n",
       "      <td>OR</td>\n",
       "      <td>This is a solid piece of gear. I ordered it af...</td>\n",
       "      <td>253</td>\n",
       "    </tr>\n",
       "    <tr>\n",
       "      <th>2353</th>\n",
       "      <td>Home_and_Kitchen_5</td>\n",
       "      <td>5.0</td>\n",
       "      <td>OR</td>\n",
       "      <td>I love my Vellux Blanket and have had them in ...</td>\n",
       "      <td>253</td>\n",
       "    </tr>\n",
       "  </tbody>\n",
       "</table>\n",
       "</div>"
      ],
      "text/plain": [
       "                category  rating label  \\\n",
       "1520  Home_and_Kitchen_5     5.0    OR   \n",
       "2223  Home_and_Kitchen_5     5.0    OR   \n",
       "2290  Home_and_Kitchen_5     1.0    OR   \n",
       "2333  Home_and_Kitchen_5     5.0    OR   \n",
       "2353  Home_and_Kitchen_5     5.0    OR   \n",
       "\n",
       "                                                  text_  text_length  \n",
       "1520  <a data-hook=\"product-link-linked\" class=\"a-li...          347  \n",
       "2223  Once you get used to the settings, it makes de...          254  \n",
       "2290  This thermostat worked great at first but soon...          261  \n",
       "2333  This is a solid piece of gear. I ordered it af...          253  \n",
       "2353  I love my Vellux Blanket and have had them in ...          253  "
      ]
     },
     "execution_count": 16,
     "metadata": {},
     "output_type": "execute_result"
    }
   ],
   "source": [
    "# long review texts\n",
    "reviews_all[reviews_all.text_length>250].head()"
   ]
  },
  {
   "cell_type": "code",
   "execution_count": 17,
   "metadata": {},
   "outputs": [
    {
     "name": "stdout",
     "output_type": "stream",
     "text": [
      "<a data-hook=\"product-link-linked\" class=\"a-link-normal\" href=\"/ORBLUE-Flatware-Pie-Server-Stainless-Steel-Cake-Cutter/dp/B011J5MKPC/ref=cm_cr_arp_d_rvw_txt?ie=UTF8\">ORBLUE Flatware Pie Server Stainless Steel Cake Cutter</a>&nbsp;FOR REVIEW\n",
      "\n",
      "GREAT QUALITY. nice finish good and solid item feels and looks very professional. well worth the purchase\n"
     ]
    }
   ],
   "source": [
    "# sample long review\n",
    "print(reviews_all.loc[1520]['text_'])"
   ]
  },
  {
   "cell_type": "code",
   "execution_count": 18,
   "metadata": {},
   "outputs": [
    {
     "name": "stdout",
     "output_type": "stream",
     "text": [
      "Once you get used to the settings, it makes deliciously, moist meats!!\n",
      "We seared our meat for just a couple minutes after cooking. It is a great kitchen addition and would highly recommend!\n",
      "We put the seasoned meats in one sealed bag, veggies in another.\n"
     ]
    }
   ],
   "source": [
    "# sample long review\n",
    "print(reviews_all.loc[2223]['text_'])"
   ]
  },
  {
   "cell_type": "code",
   "execution_count": 19,
   "metadata": {},
   "outputs": [
    {
     "name": "stdout",
     "output_type": "stream",
     "text": [
      "Detected URLs: ['https://www.nltk.org/', 'http://example.com', 'www.test.com']\n"
     ]
    }
   ],
   "source": [
    "# function to detect URLs in the text field\n",
    "\n",
    "def detect_urls(text):\n",
    "    # Regular expression to detect URLs\n",
    "    url_pattern = re.compile(r'(https?://\\S+|www\\.\\S+)')\n",
    "    \n",
    "    # Find all URLs using the pattern\n",
    "    urls = url_pattern.findall(text)\n",
    "    \n",
    "    return urls\n",
    "\n",
    "# Example usage\n",
    "sample_text = \"Check out the documentation at https://www.nltk.org/ and also visit http://example.com for more details. Also, www.test.com is a good resource.\"\n",
    "\n",
    "detected_urls = detect_urls(sample_text)\n",
    "print(\"Detected URLs:\", detected_urls)"
   ]
  },
  {
   "cell_type": "code",
   "execution_count": 20,
   "metadata": {},
   "outputs": [
    {
     "name": "stdout",
     "output_type": "stream",
     "text": [
      "Rows with URLs in reviews :  108\n"
     ]
    },
    {
     "data": {
      "text/html": [
       "<div>\n",
       "<style scoped>\n",
       "    .dataframe tbody tr th:only-of-type {\n",
       "        vertical-align: middle;\n",
       "    }\n",
       "\n",
       "    .dataframe tbody tr th {\n",
       "        vertical-align: top;\n",
       "    }\n",
       "\n",
       "    .dataframe thead th {\n",
       "        text-align: right;\n",
       "    }\n",
       "</style>\n",
       "<table border=\"1\" class=\"dataframe\">\n",
       "  <thead>\n",
       "    <tr style=\"text-align: right;\">\n",
       "      <th></th>\n",
       "      <th>category</th>\n",
       "      <th>rating</th>\n",
       "      <th>label</th>\n",
       "      <th>text_</th>\n",
       "      <th>text_length</th>\n",
       "      <th>URLs</th>\n",
       "    </tr>\n",
       "  </thead>\n",
       "  <tbody>\n",
       "    <tr>\n",
       "      <th>633</th>\n",
       "      <td>Home_and_Kitchen_5</td>\n",
       "      <td>4.0</td>\n",
       "      <td>OR</td>\n",
       "      <td>I love this product. I also recommend this:htt...</td>\n",
       "      <td>93</td>\n",
       "      <td>[http://goo.]</td>\n",
       "    </tr>\n",
       "    <tr>\n",
       "      <th>1386</th>\n",
       "      <td>Home_and_Kitchen_5</td>\n",
       "      <td>4.0</td>\n",
       "      <td>OR</td>\n",
       "      <td>Exactly as described! This mat fit our 16x16 a...</td>\n",
       "      <td>247</td>\n",
       "      <td>[http://www.amazon.com/gp/product/B0049OAQ48/r...</td>\n",
       "    </tr>\n",
       "    <tr>\n",
       "      <th>1395</th>\n",
       "      <td>Home_and_Kitchen_5</td>\n",
       "      <td>4.0</td>\n",
       "      <td>OR</td>\n",
       "      <td>These are nice, but not as good as the York de...</td>\n",
       "      <td>207</td>\n",
       "      <td>[http://www.amazon.com/gp/product/B004KKXA6C/r...</td>\n",
       "    </tr>\n",
       "  </tbody>\n",
       "</table>\n",
       "</div>"
      ],
      "text/plain": [
       "                category  rating label  \\\n",
       "633   Home_and_Kitchen_5     4.0    OR   \n",
       "1386  Home_and_Kitchen_5     4.0    OR   \n",
       "1395  Home_and_Kitchen_5     4.0    OR   \n",
       "\n",
       "                                                  text_  text_length  \\\n",
       "633   I love this product. I also recommend this:htt...           93   \n",
       "1386  Exactly as described! This mat fit our 16x16 a...          247   \n",
       "1395  These are nice, but not as good as the York de...          207   \n",
       "\n",
       "                                                   URLs  \n",
       "633                                       [http://goo.]  \n",
       "1386  [http://www.amazon.com/gp/product/B0049OAQ48/r...  \n",
       "1395  [http://www.amazon.com/gp/product/B004KKXA6C/r...  "
      ]
     },
     "execution_count": 20,
     "metadata": {},
     "output_type": "execute_result"
    }
   ],
   "source": [
    "reviews_all_tmp = reviews_all.copy()\n",
    "\n",
    "reviews_all_tmp['URLs'] = reviews_all_tmp['text_'].apply(detect_urls)\n",
    "\n",
    "reviews_all_tmp = reviews_all_tmp[reviews_all_tmp['URLs'].apply(lambda x: len(x) > 0)]\n",
    "print(\"Rows with URLs in reviews : \", reviews_all_tmp.shape[0])\n",
    "reviews_all_tmp.head(3)"
   ]
  },
  {
   "cell_type": "code",
   "execution_count": 21,
   "metadata": {},
   "outputs": [
    {
     "name": "stdout",
     "output_type": "stream",
     "text": [
      "Exactly as described! This mat fit our 16x16 artwork perfectly and works wonderfully with this frame:\n",
      "\n",
      "http://www.amazon.com/gp/product/B0049OAQ48/ref=cm_cr_ryp_prd_ttl_sol_8\n",
      "\n",
      "Together, both of these products saved us hundreds over custom framing!\n"
     ]
    }
   ],
   "source": [
    "# review text with URLs\n",
    "print(reviews_all.loc[1386]['text_'])"
   ]
  },
  {
   "cell_type": "markdown",
   "metadata": {},
   "source": [
    "### Preprocessing | Text Cleaning"
   ]
  },
  {
   "cell_type": "code",
   "execution_count": 22,
   "metadata": {},
   "outputs": [],
   "source": [
    "# Initialize lemmatizer and stopwords\n",
    "lemmatizer = WordNetLemmatizer()\n",
    "stop_words = set(stopwords.words('english'))\n",
    "\n",
    "def clean_review(text):\n",
    "\n",
    "    # Regular expression to detect URLs\n",
    "    url_pattern = re.compile(r'(https?://\\S+|www\\.\\S+)')\n",
    "\n",
    "    # Replace URLs with 'URL' word\n",
    "    text = url_pattern.sub('URL', text)\n",
    "\n",
    "    # Remove HTML tags using BeautifulSoup\n",
    "    text = BeautifulSoup(text, \"html.parser\").get_text()\n",
    "\n",
    "    # Convert text to lowercase\n",
    "    text = text.lower()\n",
    "\n",
    "    # Remove special characters and punctuation using regular expressions\n",
    "    re_punctuations = re.compile('[%s]'%re.escape(string.punctuation))\n",
    "    text = re_punctuations.sub(' ', text)\n",
    "\n",
    "    # Remove numbers\n",
    "    text = re.sub(r'[\\d+]', '', text)\n",
    "\n",
    "    # Replace multiple spaces with one single space\n",
    "    text = re.sub(r'\\s+', ' ', text)\n",
    "\n",
    "    # Tokenize the text\n",
    "    words = nltk.word_tokenize(text)\n",
    "\n",
    "    # Remove stopwords and perform lemmatization\n",
    "    cleaned_text = [lemmatizer.lemmatize(word) for word in words if word not in stop_words]\n",
    "\n",
    "    # Join the words back into a single string\n",
    "    return ' '.join(cleaned_text)"
   ]
  },
  {
   "cell_type": "code",
   "execution_count": 23,
   "metadata": {},
   "outputs": [
    {
     "name": "stdout",
     "output_type": "stream",
     "text": [
      "Original Review text :  <a data-hook=\"product-link-linked\" class=\"a-link-normal\" href=\"/ORBLUE-Flatware-Pie-Server-Stainless-Steel-Cake-Cutter/dp/B011J5MKPC/ref=cm_cr_arp_d_rvw_txt?ie=UTF8\">ORBLUE Flatware Pie Server Stainless Steel Cake Cutter</a>&nbsp;FOR REVIEW\n",
      "\n",
      "GREAT QUALITY. nice finish good and solid item feels and looks very professional. well worth the purchase\n",
      "\n",
      "\n",
      "Cleaned Review :  orblue flatware pie server stainless steel cake cutter review great quality nice finish good solid item feel look professional well worth purchase\n"
     ]
    }
   ],
   "source": [
    "sample_review = reviews_all.loc[1520]['text_']\n",
    "cleaned_review = clean_review(sample_review)\n",
    "\n",
    "print(\"Original Review text : \", sample_review)\n",
    "print(\"\\n\\nCleaned Review : \", cleaned_review)"
   ]
  },
  {
   "cell_type": "code",
   "execution_count": 24,
   "metadata": {},
   "outputs": [
    {
     "name": "stdout",
     "output_type": "stream",
     "text": [
      "Original Review text :  Once you get used to the settings, it makes deliciously, moist meats!!\n",
      "We seared our meat for just a couple minutes after cooking. It is a great kitchen addition and would highly recommend!\n",
      "We put the seasoned meats in one sealed bag, veggies in another.\n",
      "\n",
      "\n",
      "Cleaned Review :  get used setting make deliciously moist meat seared meat couple minute cooking great kitchen addition would highly recommend put seasoned meat one sealed bag veggie another\n"
     ]
    }
   ],
   "source": [
    "sample_review = reviews_all.loc[2223]['text_']\n",
    "cleaned_review = clean_review(sample_review)\n",
    "\n",
    "print(\"Original Review text : \", sample_review)\n",
    "print(\"\\n\\nCleaned Review : \", cleaned_review)"
   ]
  },
  {
   "cell_type": "code",
   "execution_count": 25,
   "metadata": {},
   "outputs": [
    {
     "name": "stdout",
     "output_type": "stream",
     "text": [
      "Original Review text :  Exactly as described! This mat fit our 16x16 artwork perfectly and works wonderfully with this frame:\n",
      "\n",
      "http://www.amazon.com/gp/product/B0049OAQ48/ref=cm_cr_ryp_prd_ttl_sol_8\n",
      "\n",
      "Together, both of these products saved us hundreds over custom framing!\n",
      "\n",
      "\n",
      "Cleaned Review :  exactly described mat fit x artwork perfectly work wonderfully frame url together product saved u hundred custom framing\n"
     ]
    }
   ],
   "source": [
    "sample_review = reviews_all.loc[1386]['text_']\n",
    "cleaned_review = clean_review(sample_review)\n",
    "\n",
    "print(\"Original Review text : \", sample_review)\n",
    "print(\"\\n\\nCleaned Review : \", cleaned_review)"
   ]
  },
  {
   "cell_type": "code",
   "execution_count": 26,
   "metadata": {},
   "outputs": [
    {
     "name": "stderr",
     "output_type": "stream",
     "text": [
      "C:\\Users\\Shashank Prakash\\AppData\\Local\\Temp\\ipykernel_8912\\4189046691.py:14: MarkupResemblesLocatorWarning: The input looks more like a filename than markup. You may want to open this file and pass the filehandle into Beautiful Soup.\n",
      "  text = BeautifulSoup(text, \"html.parser\").get_text()\n"
     ]
    }
   ],
   "source": [
    "reviews_all['cleaned_text'] = reviews_all['text_'].apply(clean_review)\n",
    "reviews_all['cleantext_length'] = reviews_all['cleaned_text'].apply(len)"
   ]
  },
  {
   "cell_type": "code",
   "execution_count": 27,
   "metadata": {},
   "outputs": [
    {
     "data": {
      "image/png": "[encoded data removed]",
      "text/plain": [
       "<Figure size 800x300 with 1 Axes>"
      ]
     },
     "metadata": {},
     "output_type": "display_data"
    }
   ],
   "source": [
    "label_CG = reviews_all[reviews_all['label'] == 'CG']['cleantext_length']\n",
    "label_OR = reviews_all[reviews_all['label'] == 'OR']['cleantext_length']\n",
    "\n",
    "plt.figure(figsize=(8, 3))\n",
    "\n",
    "# Plot histogram for label 'CG'\n",
    "plt.hist(label_CG, bins=100, alpha=0.5, label='CG', color='red')\n",
    "\n",
    "# Plot histogram for label 'OR'\n",
    "plt.hist(label_OR, bins=100, alpha=0.5, label='OR', color='blue')\n",
    "\n",
    "plt.xlabel(\"Cleaned Review Length (characters)\")\n",
    "plt.ylabel(\"Frequency\")\n",
    "plt.title(\"Histogram of Review Lengths by Label\")\n",
    "plt.legend()\n",
    "\n",
    "plt.show()"
   ]
  },
  {
   "cell_type": "code",
   "execution_count": 28,
   "metadata": {},
   "outputs": [
    {
     "data": {
      "text/html": [
       "<div>\n",
       "<style scoped>\n",
       "    .dataframe tbody tr th:only-of-type {\n",
       "        vertical-align: middle;\n",
       "    }\n",
       "\n",
       "    .dataframe tbody tr th {\n",
       "        vertical-align: top;\n",
       "    }\n",
       "\n",
       "    .dataframe thead th {\n",
       "        text-align: right;\n",
       "    }\n",
       "</style>\n",
       "<table border=\"1\" class=\"dataframe\">\n",
       "  <thead>\n",
       "    <tr style=\"text-align: right;\">\n",
       "      <th></th>\n",
       "      <th>rating</th>\n",
       "      <th>text_length</th>\n",
       "      <th>cleantext_length</th>\n",
       "    </tr>\n",
       "  </thead>\n",
       "  <tbody>\n",
       "    <tr>\n",
       "      <th>count</th>\n",
       "      <td>40432.000000</td>\n",
       "      <td>40432.000000</td>\n",
       "      <td>40432.00000</td>\n",
       "    </tr>\n",
       "    <tr>\n",
       "      <th>mean</th>\n",
       "      <td>4.256579</td>\n",
       "      <td>351.271963</td>\n",
       "      <td>197.86617</td>\n",
       "    </tr>\n",
       "    <tr>\n",
       "      <th>std</th>\n",
       "      <td>1.144354</td>\n",
       "      <td>369.813570</td>\n",
       "      <td>213.65056</td>\n",
       "    </tr>\n",
       "    <tr>\n",
       "      <th>min</th>\n",
       "      <td>1.000000</td>\n",
       "      <td>24.000000</td>\n",
       "      <td>0.00000</td>\n",
       "    </tr>\n",
       "    <tr>\n",
       "      <th>25%</th>\n",
       "      <td>4.000000</td>\n",
       "      <td>107.000000</td>\n",
       "      <td>61.00000</td>\n",
       "    </tr>\n",
       "    <tr>\n",
       "      <th>50%</th>\n",
       "      <td>5.000000</td>\n",
       "      <td>198.000000</td>\n",
       "      <td>111.00000</td>\n",
       "    </tr>\n",
       "    <tr>\n",
       "      <th>75%</th>\n",
       "      <td>5.000000</td>\n",
       "      <td>439.000000</td>\n",
       "      <td>243.00000</td>\n",
       "    </tr>\n",
       "    <tr>\n",
       "      <th>max</th>\n",
       "      <td>5.000000</td>\n",
       "      <td>2827.000000</td>\n",
       "      <td>1496.00000</td>\n",
       "    </tr>\n",
       "  </tbody>\n",
       "</table>\n",
       "</div>"
      ],
      "text/plain": [
       "             rating   text_length  cleantext_length\n",
       "count  40432.000000  40432.000000       40432.00000\n",
       "mean       4.256579    351.271963         197.86617\n",
       "std        1.144354    369.813570         213.65056\n",
       "min        1.000000     24.000000           0.00000\n",
       "25%        4.000000    107.000000          61.00000\n",
       "50%        5.000000    198.000000         111.00000\n",
       "75%        5.000000    439.000000         243.00000\n",
       "max        5.000000   2827.000000        1496.00000"
      ]
     },
     "execution_count": 28,
     "metadata": {},
     "output_type": "execute_result"
    }
   ],
   "source": [
    "reviews_all.describe()"
   ]
  },
  {
   "cell_type": "code",
   "execution_count": 29,
   "metadata": {},
   "outputs": [
    {
     "data": {
      "text/html": [
       "<div>\n",
       "<style scoped>\n",
       "    .dataframe tbody tr th:only-of-type {\n",
       "        vertical-align: middle;\n",
       "    }\n",
       "\n",
       "    .dataframe tbody tr th {\n",
       "        vertical-align: top;\n",
       "    }\n",
       "\n",
       "    .dataframe thead th {\n",
       "        text-align: right;\n",
       "    }\n",
       "</style>\n",
       "<table border=\"1\" class=\"dataframe\">\n",
       "  <thead>\n",
       "    <tr style=\"text-align: right;\">\n",
       "      <th></th>\n",
       "      <th>category</th>\n",
       "      <th>rating</th>\n",
       "      <th>label</th>\n",
       "      <th>text_</th>\n",
       "      <th>text_length</th>\n",
       "      <th>cleaned_text</th>\n",
       "      <th>cleantext_length</th>\n",
       "    </tr>\n",
       "  </thead>\n",
       "  <tbody>\n",
       "    <tr>\n",
       "      <th>2880</th>\n",
       "      <td>Home_and_Kitchen_5</td>\n",
       "      <td>1.0</td>\n",
       "      <td>OR</td>\n",
       "      <td>\"Leakproof?\" Not hardly! Ever had stewed chees...</td>\n",
       "      <td>441</td>\n",
       "      <td>leakproof hardly ever stewed cheesecake one tw...</td>\n",
       "      <td>285</td>\n",
       "    </tr>\n",
       "    <tr>\n",
       "      <th>2917</th>\n",
       "      <td>Home_and_Kitchen_5</td>\n",
       "      <td>5.0</td>\n",
       "      <td>OR</td>\n",
       "      <td>Okay... let me start by saying that I have nev...</td>\n",
       "      <td>375</td>\n",
       "      <td>okay let start saying never used apple corer a...</td>\n",
       "      <td>253</td>\n",
       "    </tr>\n",
       "    <tr>\n",
       "      <th>2930</th>\n",
       "      <td>Home_and_Kitchen_5</td>\n",
       "      <td>5.0</td>\n",
       "      <td>OR</td>\n",
       "      <td>Great item, I purchased this to add to my coll...</td>\n",
       "      <td>404</td>\n",
       "      <td>great item purchased add collection heart shap...</td>\n",
       "      <td>273</td>\n",
       "    </tr>\n",
       "    <tr>\n",
       "      <th>2946</th>\n",
       "      <td>Home_and_Kitchen_5</td>\n",
       "      <td>5.0</td>\n",
       "      <td>OR</td>\n",
       "      <td>I already have a full blown carpet steamer (Ho...</td>\n",
       "      <td>411</td>\n",
       "      <td>already full blown carpet steamer hoover brand...</td>\n",
       "      <td>255</td>\n",
       "    </tr>\n",
       "    <tr>\n",
       "      <th>2947</th>\n",
       "      <td>Home_and_Kitchen_5</td>\n",
       "      <td>5.0</td>\n",
       "      <td>OR</td>\n",
       "      <td>This hand blender works great.  Easy cleanup a...</td>\n",
       "      <td>420</td>\n",
       "      <td>hand blender work great easy cleanup easy stor...</td>\n",
       "      <td>287</td>\n",
       "    </tr>\n",
       "  </tbody>\n",
       "</table>\n",
       "</div>"
      ],
      "text/plain": [
       "                category  rating label  \\\n",
       "2880  Home_and_Kitchen_5     1.0    OR   \n",
       "2917  Home_and_Kitchen_5     5.0    OR   \n",
       "2930  Home_and_Kitchen_5     5.0    OR   \n",
       "2946  Home_and_Kitchen_5     5.0    OR   \n",
       "2947  Home_and_Kitchen_5     5.0    OR   \n",
       "\n",
       "                                                  text_  text_length  \\\n",
       "2880  \"Leakproof?\" Not hardly! Ever had stewed chees...          441   \n",
       "2917  Okay... let me start by saying that I have nev...          375   \n",
       "2930  Great item, I purchased this to add to my coll...          404   \n",
       "2946  I already have a full blown carpet steamer (Ho...          411   \n",
       "2947  This hand blender works great.  Easy cleanup a...          420   \n",
       "\n",
       "                                           cleaned_text  cleantext_length  \n",
       "2880  leakproof hardly ever stewed cheesecake one tw...               285  \n",
       "2917  okay let start saying never used apple corer a...               253  \n",
       "2930  great item purchased add collection heart shap...               273  \n",
       "2946  already full blown carpet steamer hoover brand...               255  \n",
       "2947  hand blender work great easy cleanup easy stor...               287  "
      ]
     },
     "execution_count": 29,
     "metadata": {},
     "output_type": "execute_result"
    }
   ],
   "source": [
    "# long cleaned review texts\n",
    "reviews_all[reviews_all.cleantext_length>250].head()"
   ]
  },
  {
   "cell_type": "code",
   "execution_count": 30,
   "metadata": {},
   "outputs": [
    {
     "name": "stdout",
     "output_type": "stream",
     "text": [
      "Original Text :  \"Leakproof?\" Not hardly! Ever had stewed cheesecake? That's what one of the two of these I purchased and used today for the first time produced. When I unhooked the clasp, water leaked out. and the entire bottom inch of my little cheesecake is soggy. Despite their pricey-ness, these things are made in China. They're going back to Amazon--which, thank you Jeff--stands behind every product they sell. (I'd recommend ditching this one, Jeff.\n",
      "\n",
      "\n",
      "Cleaned Text :  leakproof hardly ever stewed cheesecake one two purchased used today first time produced unhooked clasp water leaked entire bottom inch little cheesecake soggy despite pricey ness thing made china going back amazon thank jeff stand behind every product sell recommend ditching one jeff\n"
     ]
    }
   ],
   "source": [
    "# long cleaned review texts\n",
    "print(\"Original Text : \", reviews_all.loc[2880]['text_'])\n",
    "print(\"\\n\\nCleaned Text : \", reviews_all.loc[2880]['cleaned_text'])"
   ]
  },
  {
   "cell_type": "code",
   "execution_count": 31,
   "metadata": {},
   "outputs": [],
   "source": [
    "reviews_all.to_pickle(\"./data/processed_reviews_v1.pkl\")"
   ]
  },
  {
   "cell_type": "markdown",
   "metadata": {},
   "source": [
    "### Train Test Validation Data Split"
   ]
  },
  {
   "cell_type": "code",
   "execution_count": 32,
   "metadata": {},
   "outputs": [
    {
     "data": {
      "text/plain": [
       "((40432, 7), (32345, 7), (1011, 7), (7076, 7))"
      ]
     },
     "execution_count": 32,
     "metadata": {},
     "output_type": "execute_result"
    }
   ],
   "source": [
    "# both train, val and test split should have even representation across all the ratings\n",
    "\n",
    "reviews_data = pd.read_pickle(\"./data/processed_reviews_v1.pkl\")\n",
    "\n",
    "splitter =StratifiedShuffleSplit(n_splits=1, test_size=0.2, random_state=72)\n",
    "\n",
    "for train_index, test_index in splitter.split(reviews_data, reviews_data['rating']):\n",
    "    reviews_train = reviews_data.iloc[train_index]\n",
    "    reviews_test_tmp = reviews_data.iloc[test_index]\n",
    "\n",
    "val_splitter =StratifiedShuffleSplit(n_splits=1, test_size=0.125, random_state=72)\n",
    "\n",
    "for val_index, test_index in val_splitter.split(reviews_test_tmp, reviews_test_tmp['rating']):\n",
    "    reviews_test = reviews_test_tmp.iloc[test_index]\n",
    "    reviews_val = reviews_test_tmp.iloc[val_index]\n",
    "\n",
    "reviews_data.shape, reviews_train.shape, reviews_test.shape, reviews_val.shape"
   ]
  },
  {
   "cell_type": "code",
   "execution_count": 33,
   "metadata": {},
   "outputs": [
    {
     "data": {
      "image/png": "[encoded data removed]",
      "text/plain": [
       "<Figure size 1500x200 with 3 Axes>"
      ]
     },
     "metadata": {},
     "output_type": "display_data"
    }
   ],
   "source": [
    "# distribution of CG labels in train-val-test splits\n",
    "\n",
    "fig, axes = plt.subplots(1, 3)\n",
    "fig.set_size_inches(15,2)\n",
    "\n",
    "val_counts = reviews_train[['label', 'rating']].value_counts().reset_index(name='count')\n",
    "pivot_df = val_counts.pivot(index='rating', columns='label', values='count')\n",
    "pivot_df.plot(kind='barh', stacked=False, ax=axes[0], title='Train Split')\n",
    "\n",
    "val_counts = reviews_val[['label', 'rating']].value_counts().reset_index(name='count')\n",
    "pivot_df = val_counts.pivot(index='rating', columns='label', values='count')\n",
    "pivot_df.plot(kind='barh', stacked=False, ax=axes[1], title='Val Split')\n",
    "\n",
    "val_counts = reviews_test[['label', 'rating']].value_counts().reset_index(name='count')\n",
    "pivot_df = val_counts.pivot(index='rating', columns='label', values='count')\n",
    "pivot_df.plot(kind='barh', stacked=False, ax=axes[2], title='Test Split')\n",
    "\n",
    "plt.tight_layout()"
   ]
  },
  {
   "cell_type": "code",
   "execution_count": 34,
   "metadata": {},
   "outputs": [],
   "source": [
    "reviews_train.to_pickle(\"./data/processed_reviews_train_v1.pkl\")\n",
    "reviews_test.to_pickle(\"./data/processed_reviews_test_v1.pkl\")\n",
    "reviews_val.to_pickle(\"./data/processed_reviews_val_v1.pkl\")"
   ]
  },
  {
   "cell_type": "markdown",
   "metadata": {},
   "source": [
    "### Preprocessing | TF-IDF Features"
   ]
  },
  {
   "cell_type": "code",
   "execution_count": 35,
   "metadata": {},
   "outputs": [
    {
     "data": {
      "text/html": [
       "<div>\n",
       "<style scoped>\n",
       "    .dataframe tbody tr th:only-of-type {\n",
       "        vertical-align: middle;\n",
       "    }\n",
       "\n",
       "    .dataframe tbody tr th {\n",
       "        vertical-align: top;\n",
       "    }\n",
       "\n",
       "    .dataframe thead th {\n",
       "        text-align: right;\n",
       "    }\n",
       "</style>\n",
       "<table border=\"1\" class=\"dataframe\">\n",
       "  <thead>\n",
       "    <tr style=\"text-align: right;\">\n",
       "      <th></th>\n",
       "      <th>category</th>\n",
       "      <th>rating</th>\n",
       "      <th>label</th>\n",
       "      <th>text_</th>\n",
       "      <th>text_length</th>\n",
       "      <th>cleaned_text</th>\n",
       "      <th>cleantext_length</th>\n",
       "    </tr>\n",
       "  </thead>\n",
       "  <tbody>\n",
       "    <tr>\n",
       "      <th>0</th>\n",
       "      <td>Home_and_Kitchen_5</td>\n",
       "      <td>5.0</td>\n",
       "      <td>CG</td>\n",
       "      <td>Love this!  Well made, sturdy, and very comfor...</td>\n",
       "      <td>75</td>\n",
       "      <td>love well made sturdy comfortable love pretty</td>\n",
       "      <td>45</td>\n",
       "    </tr>\n",
       "    <tr>\n",
       "      <th>1</th>\n",
       "      <td>Home_and_Kitchen_5</td>\n",
       "      <td>5.0</td>\n",
       "      <td>CG</td>\n",
       "      <td>love it, a great upgrade from the original.  I...</td>\n",
       "      <td>80</td>\n",
       "      <td>love great upgrade original mine couple year</td>\n",
       "      <td>44</td>\n",
       "    </tr>\n",
       "    <tr>\n",
       "      <th>2</th>\n",
       "      <td>Home_and_Kitchen_5</td>\n",
       "      <td>5.0</td>\n",
       "      <td>CG</td>\n",
       "      <td>This pillow saved my back. I love the look and...</td>\n",
       "      <td>67</td>\n",
       "      <td>pillow saved back love look feel pillow</td>\n",
       "      <td>39</td>\n",
       "    </tr>\n",
       "    <tr>\n",
       "      <th>3</th>\n",
       "      <td>Home_and_Kitchen_5</td>\n",
       "      <td>1.0</td>\n",
       "      <td>CG</td>\n",
       "      <td>Missing information on how to use it, but it i...</td>\n",
       "      <td>81</td>\n",
       "      <td>missing information use great product price</td>\n",
       "      <td>43</td>\n",
       "    </tr>\n",
       "    <tr>\n",
       "      <th>4</th>\n",
       "      <td>Home_and_Kitchen_5</td>\n",
       "      <td>5.0</td>\n",
       "      <td>CG</td>\n",
       "      <td>Very nice set. Good quality. We have had the s...</td>\n",
       "      <td>85</td>\n",
       "      <td>nice set good quality set two month</td>\n",
       "      <td>35</td>\n",
       "    </tr>\n",
       "  </tbody>\n",
       "</table>\n",
       "</div>"
      ],
      "text/plain": [
       "             category  rating label  \\\n",
       "0  Home_and_Kitchen_5     5.0    CG   \n",
       "1  Home_and_Kitchen_5     5.0    CG   \n",
       "2  Home_and_Kitchen_5     5.0    CG   \n",
       "3  Home_and_Kitchen_5     1.0    CG   \n",
       "4  Home_and_Kitchen_5     5.0    CG   \n",
       "\n",
       "                                               text_  text_length  \\\n",
       "0  Love this!  Well made, sturdy, and very comfor...           75   \n",
       "1  love it, a great upgrade from the original.  I...           80   \n",
       "2  This pillow saved my back. I love the look and...           67   \n",
       "3  Missing information on how to use it, but it i...           81   \n",
       "4  Very nice set. Good quality. We have had the s...           85   \n",
       "\n",
       "                                    cleaned_text  cleantext_length  \n",
       "0  love well made sturdy comfortable love pretty                45  \n",
       "1   love great upgrade original mine couple year                44  \n",
       "2        pillow saved back love look feel pillow                39  \n",
       "3    missing information use great product price                43  \n",
       "4            nice set good quality set two month                35  "
      ]
     },
     "execution_count": 35,
     "metadata": {},
     "output_type": "execute_result"
    }
   ],
   "source": [
    "reviews_train = pd.read_pickle(\"./data/processed_reviews_train_v1.pkl\")\n",
    "reviews_data.head()"
   ]
  },
  {
   "cell_type": "code",
   "execution_count": 36,
   "metadata": {},
   "outputs": [],
   "source": [
    "def get_tfidf_vectorizer(df_in, text_col,  minperc=0.005, maxperc=0.995):\n",
    "\n",
    "    '''\n",
    "    Fits a TF-IDF vectorizer on the specified text column and returns the vectorizer.\n",
    "    Considers words with occurence percentage in the range [minperc, maxperc]\n",
    "    '''\n",
    "\n",
    "    # TF-IDF vectorization\n",
    "    vectorizer = TfidfVectorizer(min_df=minperc, max_df=maxperc)\n",
    "    vectorizer.fit(df_in[text_col])\n",
    "\n",
    "    return vectorizer\n",
    "\n",
    "\n",
    "\n",
    "def get_tfidf_features(df_in, text_col, vectorizer):\n",
    "\n",
    "    '''\n",
    "    Returns dataframe with tf-idf features created from the 'text_col'\n",
    "    using the provided vectorizer.\n",
    "    '''\n",
    "\n",
    "    # Use the passed vectorizer to transform the text column\n",
    "    X = vectorizer.transform(df_in[text_col])\n",
    "\n",
    "    # Convert the sparse matrix to a DataFrame\n",
    "    col_names = [\"f_\" + wordcol for wordcol in vectorizer.get_feature_names_out()]\n",
    "    tfidf_df = pd.DataFrame(X.toarray(), columns=col_names, index=df_in.index)\n",
    "\n",
    "    # Merge the TF-IDF features with the original DataFrame using the index\n",
    "    df_out = df_in.merge(tfidf_df, left_index=True, right_index=True)\n",
    "\n",
    "    return df_out"
   ]
  },
  {
   "cell_type": "code",
   "execution_count": 37,
   "metadata": {},
   "outputs": [],
   "source": [
    "tfidf_vect = get_tfidf_vectorizer(reviews_train, 'cleaned_text')\n",
    "\n",
    "# Save the fitted TfidfVectorizer object as pickle file\n",
    "with open('./artifacts/eda/tfidf_vectorizer.pkl', 'wb') as f:\n",
    "    pickle.dump(tfidf_vect, f)\n",
    "\n",
    "# Load the vectorizer from the pickle file\n",
    "with open('./artifacts/eda/tfidf_vectorizer.pkl', 'rb') as f:\n",
    "    tfidf_vect_v2 = pickle.load(f)"
   ]
  },
  {
   "cell_type": "code",
   "execution_count": 38,
   "metadata": {},
   "outputs": [],
   "source": [
    "reviews_train_wt_tfidf = get_tfidf_features(reviews_train, 'cleaned_text', tfidf_vect_v2)\n",
    "reviews_test_wt_tfidf = get_tfidf_features(reviews_test, 'cleaned_text', tfidf_vect_v2)\n",
    "reviews_val_wt_tfidf = get_tfidf_features(reviews_val, 'cleaned_text', tfidf_vect_v2)\n",
    "\n",
    "# reviews_train_wt_tfidf.to_pickle(\"./data/processed_reviews_train_v2.pkl\")\n",
    "# reviews_test_wt_tfidf.to_pickle(\"./data/processed_reviews_test_v2.pkl\")\n",
    "# reviews_val_wt_tfidf.to_pickle(\"./data/processed_reviews_val_v2.pkl\")"
   ]
  },
  {
   "cell_type": "markdown",
   "metadata": {},
   "source": [
    "### Preprocessing | Standardization"
   ]
  },
  {
   "cell_type": "code",
   "execution_count": 39,
   "metadata": {},
   "outputs": [],
   "source": [
    "# from sklearn.preprocessing import StandardScaler\n",
    "# scaler = StandardScaler()\n",
    "# X_train_scaled = scaler.fit_transform(X_train.astype(np.float64))"
   ]
  },
  {
   "cell_type": "markdown",
   "metadata": {},
   "source": [
    "### Baseline | SGD Classifier"
   ]
  },
  {
   "cell_type": "code",
   "execution_count": 40,
   "metadata": {},
   "outputs": [],
   "source": [
    "# prepare data for model\n",
    "\n",
    "def get_xydata(file_path, file_name, col_text, vectorizer, cols_x, col_y, col_y_mapper):\n",
    "\n",
    "    '''\n",
    "    Input Parameters:\n",
    "     Imports the file 'file_name' from location 'file_path' which has the column 'col_text'.\n",
    "     Numerical features will be created on this text column which will be required for model training/evaluation.\n",
    "     'vectorizer' : pickle file with tf-idf vectorizer.\n",
    "     'cols_x' : list of independent features from the file 'file_name' required in 'df_x'.\n",
    "     'col_y' : list with a single target column. Its mandatory to have 'CG' in this column for computer generated reviews.\n",
    "     'col_y_mapper' : dictionary to map text contents of 'col_y' to integers.\n",
    "    Outputs:\n",
    "     'df_x' and 'df_y': numpy nd-arrays which contain the independent features and target variable respectively.\n",
    "     'cols_x' and 'cols_y' : lists containing column names corresponding to the columns of output matrices.\n",
    "     \n",
    "    '''\n",
    "\n",
    "    # Read the input file\n",
    "    dframe = pd.read_pickle(file_path + file_name)\n",
    "\n",
    "    assert all([col in dframe.columns for col in cols_x + col_y + [col_text]]), \"required column(s) from input parameters not found\"\n",
    "\n",
    "    # Load the vectorizer from the pickle file\n",
    "    with open(vectorizer, 'rb') as f:\n",
    "        tfidf_vect = pickle.load(f)\n",
    "    tfidf_features = [\"f_\" + wordcol for wordcol in tfidf_vect.get_feature_names_out()]\n",
    "\n",
    "    # Create tf-idf features\n",
    "    dframe_tfidf = get_tfidf_features(dframe, col_text, tfidf_vect)\n",
    "\n",
    "    df_x = dframe_tfidf[tfidf_features + cols_x].copy()\n",
    "    df_y = dframe_tfidf[col_y].copy()\n",
    "    # df_y[col_y[0]] = df_y[col_y[0]].apply(lambda x : 1 if x=='CG' else 0)\n",
    "    df_y[col_y[0]] = df_y[col_y[0]].map(col_y_mapper)\n",
    "\n",
    "    return df_x.values, df_y.values.flatten(), list(df_x.columns), list(df_y.columns)"
   ]
  },
  {
   "cell_type": "code",
   "execution_count": 41,
   "metadata": {},
   "outputs": [],
   "source": [
    "cols_x = ['rating']\n",
    "col_y = ['label']\n",
    "col_y_mapper = {'CG':1, 'OR':0}\n",
    "file_path = \"./data/\"\n",
    "col_text = 'cleaned_text'\n",
    "vectorizer_file = './artifacts/eda/tfidf_vectorizer.pkl'\n",
    "\n",
    "train_x, train_y, train_xcols, train_ycols = get_xydata(file_path, \"processed_reviews_train_v1.pkl\", col_text, vectorizer_file, cols_x, col_y, col_y_mapper)\n",
    "val_x, val_y, val_xcols, val_ycols = get_xydata(file_path, \"processed_reviews_val_v1.pkl\", col_text, vectorizer_file, cols_x, col_y, col_y_mapper)"
   ]
  },
  {
   "cell_type": "code",
   "execution_count": 42,
   "metadata": {},
   "outputs": [],
   "source": [
    "# train sgd classifier\n",
    "baseline_sgd = SGDClassifier(max_iter=1000, tol=1e-3, loss='modified_huber', random_state=72)\n",
    "baseline_sgd.fit(train_x, train_y)\n",
    "\n",
    "# save the model as pickle file\n",
    "with open('./artifacts/eda/baseline_sgd.pkl', 'wb') as f:\n",
    "    pickle.dump(baseline_sgd, f)"
   ]
  },
  {
   "cell_type": "code",
   "execution_count": 43,
   "metadata": {},
   "outputs": [
    {
     "name": "stdout",
     "output_type": "stream",
     "text": [
      "Sample Prediction, val row 0 :  [1]\n",
      "Actual Label, val row 0 :  1\n",
      "Accuracy on 3 folds :  [0.82220367 0.76803932 0.81161302]\n",
      "Accuracy on val data :  0.824335782928208\n",
      "Confusion Matrix :\n"
     ]
    },
    {
     "data": {
      "image/png": "[encoded data removed]",
      "text/plain": [
       "<Figure size 300x300 with 1 Axes>"
      ]
     },
     "metadata": {},
     "output_type": "display_data"
    }
   ],
   "source": [
    "# Load the model from the pickle file\n",
    "with open('./artifacts/eda/baseline_sgd.pkl', 'rb') as f:\n",
    "    baseline_sgd_clf = pickle.load(f)\n",
    "\n",
    "# predict on smaple row\n",
    "print(\"Sample Prediction, val row 0 : \", baseline_sgd_clf.predict(val_x[0].reshape(1,-1)))\n",
    "print(\"Actual Label, val row 0 : \", val_y[0])\n",
    "\n",
    "# accuracy of the model\n",
    "\n",
    "print(\"Accuracy on 3 folds : \", cross_val_score(baseline_sgd_clf, train_x, train_y, cv=3, scoring=\"accuracy\"))\n",
    "\n",
    "val_y_preds_sgd = baseline_sgd_clf.predict(val_x)\n",
    "print(\"Accuracy on val data : \", accuracy_score(val_y, val_y_preds_sgd))\n",
    "\n",
    "# confusion matrix of the model predictions on val data\n",
    "\n",
    "print(\"Confusion Matrix :\")\n",
    "\n",
    "# Sort the dictionary by its values and extract the keys\n",
    "sorted_keys = [key for key, _ in sorted(col_y_mapper.items(), key=lambda item: item[1])]\n",
    "\n",
    "conf_mx = confusion_matrix(val_y, val_y_preds_sgd)\n",
    "disp = ConfusionMatrixDisplay(confusion_matrix=conf_mx, display_labels=sorted_keys)\n",
    "\n",
    "fig, ax = plt.subplots(figsize=(3,3))\n",
    "disp.plot(cmap='Blues', colorbar=False, ax=ax)\n",
    "plt.show()"
   ]
  },
  {
   "cell_type": "markdown",
   "metadata": {},
   "source": [
    "### Baseline | Logistic Regression"
   ]
  },
  {
   "cell_type": "code",
   "execution_count": 44,
   "metadata": {},
   "outputs": [],
   "source": [
    "# train logistic classifier\n",
    "baseline_log = LogisticRegression(solver=\"lbfgs\", max_iter=1000, random_state=72)\n",
    "baseline_log.fit(train_x, train_y)\n",
    "\n",
    "# save the model as pickle file\n",
    "with open('./artifacts/eda/baseline_log.pkl', 'wb') as f:\n",
    "    pickle.dump(baseline_log, f)"
   ]
  },
  {
   "cell_type": "code",
   "execution_count": 45,
   "metadata": {},
   "outputs": [
    {
     "name": "stdout",
     "output_type": "stream",
     "text": [
      "Sample Prediction, val row 0 :  [1]\n",
      "Actual Label, val row 0 :  1\n",
      "Accuracy on 3 folds :  [0.82591356 0.83045817 0.82645395]\n",
      "Accuracy on val data :  0.8309779536461278\n",
      "Confusion Matrix :\n"
     ]
    },
    {
     "data": {
      "image/png": "[encoded data removed]",
      "text/plain": [
       "<Figure size 300x300 with 1 Axes>"
      ]
     },
     "metadata": {},
     "output_type": "display_data"
    }
   ],
   "source": [
    "# Load the model from the pickle file\n",
    "with open('./artifacts/eda/baseline_log.pkl', 'rb') as f:\n",
    "    baseline_log_clf = pickle.load(f)\n",
    "\n",
    "# predict on smaple row\n",
    "print(\"Sample Prediction, val row 0 : \", baseline_log_clf.predict(val_x[0].reshape(1,-1)))\n",
    "print(\"Actual Label, val row 0 : \",val_y[0])\n",
    "\n",
    "# accuracy of the model\n",
    "\n",
    "print(\"Accuracy on 3 folds : \", cross_val_score(baseline_log_clf, train_x, train_y, cv=3, scoring=\"accuracy\"))\n",
    "\n",
    "val_y_preds_log = baseline_log_clf.predict(val_x)\n",
    "print(\"Accuracy on val data : \", accuracy_score(val_y, val_y_preds_log))\n",
    "\n",
    "# confusion matrix of the model predictions on val data\n",
    "\n",
    "print(\"Confusion Matrix :\")\n",
    "\n",
    "# Sort the dictionary by its values and extract the keys\n",
    "sorted_keys = [key for key, value in sorted(col_y_mapper.items(), key=lambda item: item[1])]\n",
    "\n",
    "conf_mx = confusion_matrix(val_y, val_y_preds_log)\n",
    "disp = ConfusionMatrixDisplay(confusion_matrix=conf_mx, display_labels=sorted_keys)\n",
    "\n",
    "fig, ax = plt.subplots(figsize=(3,3))\n",
    "disp.plot(cmap='Blues', colorbar=False, ax=ax)\n",
    "plt.show()"
   ]
  },
  {
   "cell_type": "markdown",
   "metadata": {},
   "source": [
    "### Baseline | Tree Based Classification"
   ]
  },
  {
   "cell_type": "code",
   "execution_count": 46,
   "metadata": {},
   "outputs": [],
   "source": [
    "# train logistic classifier\n",
    "baseline_rf = RandomForestClassifier(n_estimators=200, min_samples_split=0.02, random_state=72)\n",
    "baseline_rf.fit(train_x, train_y)\n",
    "\n",
    "# save the model as pickle file\n",
    "with open('./artifacts/eda/baseline_rf.pkl', 'wb') as f:\n",
    "    pickle.dump(baseline_rf, f)"
   ]
  },
  {
   "cell_type": "code",
   "execution_count": 47,
   "metadata": {},
   "outputs": [
    {
     "name": "stdout",
     "output_type": "stream",
     "text": [
      "Sample Prediction, val row 0 :  [1]\n",
      "Actual Label, val row 0 :  1\n",
      "Accuracy on 3 folds :  [0.8016138  0.80356149 0.80261571]\n",
      "Accuracy on val data :  0.8092142453363482\n",
      "Confusion Matrix :\n"
     ]
    },
    {
     "data": {
      "image/png": "[encoded data removed]",
      "text/plain": [
       "<Figure size 300x300 with 1 Axes>"
      ]
     },
     "metadata": {},
     "output_type": "display_data"
    }
   ],
   "source": [
    "# Load the model from the pickle file\n",
    "with open('./artifacts/eda/baseline_rf.pkl', 'rb') as f:\n",
    "    baseline_rf_clf = pickle.load(f)\n",
    "\n",
    "# predict on smaple row\n",
    "print(\"Sample Prediction, val row 0 : \", baseline_rf_clf.predict(val_x[0].reshape(1,-1)))\n",
    "print(\"Actual Label, val row 0 : \", val_y[0])\n",
    "\n",
    "# accuracy of the model\n",
    "\n",
    "print(\"Accuracy on 3 folds : \", cross_val_score(baseline_rf_clf, train_x, train_y, cv=3, scoring=\"accuracy\"))\n",
    "\n",
    "val_y_preds_rf = baseline_rf_clf.predict(val_x)\n",
    "print(\"Accuracy on val data : \", accuracy_score(val_y, val_y_preds_rf))\n",
    "\n",
    "# confusion matrix of the model predictions on val data\n",
    "\n",
    "print(\"Confusion Matrix :\")\n",
    "\n",
    "# Sort the dictionary by its values and extract the keys\n",
    "sorted_keys = [key for key, _ in sorted(col_y_mapper.items(), key=lambda item: item[1])]\n",
    "\n",
    "conf_mx = confusion_matrix(val_y, val_y_preds_rf)\n",
    "disp = ConfusionMatrixDisplay(confusion_matrix=conf_mx, display_labels=sorted_keys)\n",
    "\n",
    "fig, ax = plt.subplots(figsize=(3,3))\n",
    "disp.plot(cmap='Blues', colorbar=False, ax=ax)\n",
    "plt.show()"
   ]
  },
  {
   "cell_type": "markdown",
   "metadata": {},
   "source": [
    "### Compare Baselines"
   ]
  },
  {
   "cell_type": "code",
   "execution_count": 48,
   "metadata": {},
   "outputs": [],
   "source": [
    "def plot_roc_curve(fpr, tpr, label=None):\n",
    "    plt.plot(fpr, tpr, ':', linewidth=2, label=label)\n",
    "    plt.plot([0, 1], [0, 1], 'k--')     # dashed diagonal\n",
    "    plt.axis([0, 1, 0, 1])\n",
    "    plt.xlabel('False Positive Rate (Fall-Out)', fontsize=16)\n",
    "    plt.ylabel('True Positive Rate (Recall)', fontsize=16)\n",
    "    plt.grid(True)\n",
    "\n",
    "def get_roc(model_list, test_dfx, test_dfy):\n",
    "    '''\n",
    "    'model_list' : list of sklearn models\n",
    "    'test_dfx' and 'test_dfy' : test features and targets\n",
    "    Plots roc curves for the provided models and generates roc-auc scores based on 3 fold cv predictions.\n",
    "    '''\n",
    "\n",
    "    plt.figure(figsize=(8, 4))\n",
    "\n",
    "    for sklmodel in model_list:\n",
    "        # generate prediction probabilities for label=1('CG')\n",
    "        test_y_preds = cross_val_predict(sklmodel, test_dfx, test_dfy, cv=3, method=\"predict_proba\")[:,1]\n",
    "\n",
    "        model_type = type(sklmodel).__name__\n",
    "        fpr, tpr, _ = roc_curve(test_dfy, test_y_preds)\n",
    "        plot_roc_curve(fpr, tpr, model_type)\n",
    "\n",
    "        print(f\"ROC Score for {model_type} : {roc_auc_score(test_dfy, test_y_preds):0.5f}\")\n",
    "    \n",
    "    plt.legend(loc=\"lower right\", fontsize=16)\n",
    "    plt.title(\"ROC Comparison Plot\")\n",
    "    plt.show()"
   ]
  },
  {
   "cell_type": "code",
   "execution_count": 49,
   "metadata": {},
   "outputs": [
    {
     "name": "stdout",
     "output_type": "stream",
     "text": [
      "ROC Score for SGDClassifier : 0.87343\n",
      "ROC Score for LogisticRegression : 0.89864\n",
      "ROC Score for RandomForestClassifier : 0.87045\n"
     ]
    },
    {
     "data": {
      "image/png": "[encoded data removed]",
      "text/plain": [
       "<Figure size 800x400 with 1 Axes>"
      ]
     },
     "metadata": {},
     "output_type": "display_data"
    }
   ],
   "source": [
    "# Load the baseline model\n",
    "with open('./artifacts/eda/baseline_sgd.pkl', 'rb') as f:\n",
    "    baseline_sgd = pickle.load(f)\n",
    "with open('./artifacts/eda/baseline_log.pkl', 'rb') as f:\n",
    "    baseline_log = pickle.load(f)\n",
    "with open('./artifacts/eda/baseline_rf.pkl', 'rb') as f:\n",
    "    baseline_rf = pickle.load(f)\n",
    "\n",
    "# generate roc scores and curves\n",
    "model_list = [baseline_sgd, baseline_log, baseline_rf]\n",
    "get_roc(model_list, val_x, val_y)"
   ]
  }
 ],
 "metadata": {
  "kernelspec": {
   "display_name": "mlops",
   "language": "python",
   "name": "python3"
  },
  "language_info": {
   "codemirror_mode": {
    "name": "ipython",
    "version": 3
   },
   "file_extension": ".py",
   "mimetype": "text/x-python",
   "name": "python",
   "nbconvert_exporter": "python",
   "pygments_lexer": "ipython3",
   "version": "3.9.19"
  }
 },
 "nbformat": 4,
 "nbformat_minor": 2
}
